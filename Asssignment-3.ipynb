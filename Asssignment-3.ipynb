{
 "cells": [
  {
   "cell_type": "raw",
   "id": "79da2669-55d6-4ea4-ad06-cea735ea933b",
   "metadata": {},
   "source": [
    "Que-1: Explain with an example each when to use a for loop and a while loop."
   ]
  },
  {
   "cell_type": "code",
   "execution_count": null,
   "id": "8179c3b0-795f-4cf8-bb79-2e89a0869f6c",
   "metadata": {},
   "outputs": [],
   "source": [
    "1.=>For Loop:-\n",
    "          A for loop is a control flow statement that executes code repeatedly for a particular number of iterations. \n",
    "          In this control flow statement, the keyword used is for. \n",
    "          The for loop is used when the number of iterations is already known.\n",
    "\n",
    "#syntax:-\n",
    "sequence = [True, True] # Initialization\n",
    "for iterator_var in sequence: # Condition and Updation\n",
    "    statements(s) # Body of loop\n",
    "\n",
    "#Example:-    \n",
    "n = [1, 2, 3]  # Initialization\n",
    "for i in n:  # Condition and Updation\n",
    "    print(i)\n",
    "    \n",
    "2.=>While loop:-\n",
    "          A loop that executes a single statement or a group of statements for the given true condition. \n",
    "          The keyword used to represent this loop is \"while\".\n",
    "          A \"while\" loop is used when the number of iterations is unknown. \n",
    "        The statement repeats itself till the boolean value becomes false.\n",
    "        In a while loop, the condition is tested at the start, also known as the pre-test loop.\n",
    "          \n",
    "#Syntax:-\n",
    "expression = True # Initialization\n",
    "while expression: # Condition\n",
    "    statement(s) # Body of loop\n",
    "    \n",
    "#Example:-\n",
    "i = 1  # Initialization\n",
    "while i < 6:  # Condition\n",
    "    print(i)\n",
    "    i += 1  # Updation\n"
   ]
  },
  {
   "cell_type": "raw",
   "id": "89dea853-bf4c-4f72-8e23-293f7525a391",
   "metadata": {},
   "source": [
    "Que-2: Write a python program to print the sum and product of the first 10 natural numbers using for and while loop."
   ]
  },
  {
   "cell_type": "code",
   "execution_count": 2,
   "id": "d38d83f1-193c-427a-94d8-3c02a4ea2747",
   "metadata": {},
   "outputs": [
    {
     "name": "stdout",
     "output_type": "stream",
     "text": [
      "The sum of first 10 natural numbers is:- 55\n",
      "The product of first 10 natural numbers is:- 3628800\n"
     ]
    }
   ],
   "source": [
    "#In While Loop:-\n",
    "sum=0\n",
    "mul=1\n",
    "no=1\n",
    "while no<=10:\n",
    "    sum = sum + no\n",
    "    mul = mul * no\n",
    "    no+=1\n",
    "print(\"The sum of first 10 natural numbers is:-\",sum)\n",
    "print(\"The product of first 10 natural numbers is:-\",mul)\n"
   ]
  },
  {
   "cell_type": "code",
   "execution_count": 3,
   "id": "88ac3ef4-fa59-4146-86e0-b262a1188c3b",
   "metadata": {},
   "outputs": [
    {
     "name": "stdout",
     "output_type": "stream",
     "text": [
      "The sum of first 10 natural numbers is:- 55\n",
      "The product of first 10 natural numbers is:- 3628800\n"
     ]
    }
   ],
   "source": [
    "#In For Loop:-\n",
    "sum=0\n",
    "mul=1\n",
    "for i in range(1,11):\n",
    "    sum=sum+i\n",
    "    mul=mul*i\n",
    "print(\"The sum of first 10 natural numbers is:-\",sum)\n",
    "print(\"The product of first 10 natural numbers is:-\",mul)\n"
   ]
  },
  {
   "cell_type": "raw",
   "id": "243a918f-2206-41e3-a490-235dd59809e6",
   "metadata": {},
   "source": [
    "Que-3: Create a python program to compute the electricity bill for a household.\n",
    "The per-unit charges in rupees are as follows:For the first 100 units, the user will be charged rs. 4.5 per unit, for the next 100 units, the user will be charged Rs. 6 per unit, and for the next 100 units, the user will will unit, for the next 100 units, the user will be charged Rs. 10 per unit, After 300 units and above the user will be charged Rs. 20 per unit.\n",
    "\n",
    "You are required to take the units of electricity consumed in a month from the user as input.\n",
    "\n",
    "Yor program must pass this test case: When the unit of electricity consumed by the user in a month is 310, the total electricity bill should be 2250."
   ]
  },
  {
   "cell_type": "code",
   "execution_count": 5,
   "id": "b0e5fbdc-3589-4916-a291-488c390245bb",
   "metadata": {},
   "outputs": [
    {
     "name": "stdin",
     "output_type": "stream",
     "text": [
      "Enter the unit:- 310\n"
     ]
    },
    {
     "name": "stdout",
     "output_type": "stream",
     "text": [
      "The user will be charged Rs. 2250.0 per unit\n"
     ]
    }
   ],
   "source": [
    "unit= int(input(\"Enter the unit:-\"))\n",
    "if unit <= 100:\n",
    "    bill=unit*4.5\n",
    "    print(\"The user will be charged Rs.\",bill , \"per unit\")\n",
    "elif unit > 100 and unit <=200:\n",
    "    bill= 100 *4.5 +(unit-100) * 6\n",
    "    print(\"The user will be charged Rs.\",bill , \"per unit\")\n",
    "elif unit > 200 and unit <=300:\n",
    "    bill = 100 *4.5 + 100 * 6 +(unit-200) * 10\n",
    "    print(\"The user will be charged Rs.\",bill , \"per unit\")\n",
    "else:\n",
    "    bill = 100 *4.5 + 100 * 6 + 100* 10 + (unit-300)*20\n",
    "    print(\"The user will be charged Rs.\",bill , \"per unit\")\n",
    "                "
   ]
  },
  {
   "cell_type": "raw",
   "id": "c7f219aa-5ac2-492b-8a28-fa4ef6369ea0",
   "metadata": {},
   "source": [
    "Que-4: Create a list of numbers from 1 to 100.Use for loop to calculate the cube of each number and if the cube of that number is divisible by 4 or 5 then append that number in a list and print that list. "
   ]
  },
  {
   "cell_type": "code",
   "execution_count": 7,
   "id": "9881c308-5fc4-4104-8876-00f7616f9823",
   "metadata": {},
   "outputs": [
    {
     "name": "stdout",
     "output_type": "stream",
     "text": [
      "The Cube Of Numbers Which Are Divisible By 4 & 5 From 1-100:- [64, 125, 512, 1000, 1728, 3375, 4096, 8000, 13824, 15625, 21952, 27000, 32768, 42875, 46656, 64000, 85184, 91125, 110592, 125000, 140608, 166375, 175616, 216000, 262144, 274625, 314432, 343000, 373248, 421875, 438976, 512000, 592704, 614125, 681472, 729000, 778688, 857375, 884736, 1000000]\n"
     ]
    }
   ],
   "source": [
    "#In For Loop:-\n",
    "#Creating Empty List\n",
    "list=[]\n",
    "res=[]\n",
    "for i in range(1,101):\n",
    "    list.append(i)\n",
    "    cube = i ** 3\n",
    "    \n",
    "    if i % 4 == 0 or i % 5 == 0:\n",
    "        res.append(cube)\n",
    "print(\"The Cube Of Numbers Which Are Divisible By 4 & 5 From 1-100:-\",res)\n",
    "    "
   ]
  },
  {
   "cell_type": "code",
   "execution_count": 8,
   "id": "b389691b-cc24-4860-890f-60ee6d71a3de",
   "metadata": {},
   "outputs": [
    {
     "name": "stdout",
     "output_type": "stream",
     "text": [
      "The Cube Of Numbers Which Are Divisible By 4 & 5 From 1-100:- [64, 125, 512, 1000, 1728, 3375, 4096, 8000, 13824, 15625, 21952, 27000, 32768, 42875, 46656, 64000, 85184, 91125, 110592, 125000, 140608, 166375, 175616, 216000, 262144, 274625, 314432, 343000, 373248, 421875, 438976, 512000, 592704, 614125, 681472, 729000, 778688, 857375, 884736, 1000000]\n"
     ]
    }
   ],
   "source": [
    "#In While Loop:-\n",
    "#Creating Empty List\n",
    "list=[]\n",
    "res=[]\n",
    "#Initialzing Number\n",
    "i=1\n",
    "# Checking no lessthan or equal to 100\n",
    "while i <= 100:\n",
    "# Appending Range In List\n",
    "    list.append(i)\n",
    "    cube = i ** 3\n",
    "# Checking condition no divisible by 4 & 5   \n",
    "    if i % 4 == 0 or i % 5 == 0:\n",
    "# Appending Cube In Res\n",
    "        res.append(cube)\n",
    "    i+=1\n",
    "print(\"The Cube Of Numbers Which Are Divisible By 4 & 5 From 1-100:-\",res)\n",
    " "
   ]
  },
  {
   "cell_type": "raw",
   "id": "8094e9b0-7e3b-4b92-a314-6ceb9a3afcf7",
   "metadata": {},
   "source": [
    "Que-5: Write a program to filter count vowels in the below-given string.\n",
    "\n",
    "string= \" I want to become a data scienst\""
   ]
  },
  {
   "cell_type": "code",
   "execution_count": 10,
   "id": "5c5adda0-062e-4835-a552-4b2ffde79632",
   "metadata": {},
   "outputs": [
    {
     "name": "stdout",
     "output_type": "stream",
     "text": [
      "Numbers of vowels are in the given list :- 12\n"
     ]
    }
   ],
   "source": [
    "#Initializing The string\n",
    "string = \"I want to become a data scientist\"\n",
    "# creating a list of vowels\n",
    "vowels = [\"a\", \"e\", \"i\", \"o\", \"u\" , \"A\" , \"E\" , \"I\" , \"O\" , \"U\"]\n",
    "# initializing count variable\n",
    "count = 0\n",
    "for c in range(len(string)):\n",
    "    if string[c] in vowels:\n",
    "        count += 1\n",
    "\n",
    "print(\"Numbers of vowels are in the given list :-\",count)"
   ]
  },
  {
   "cell_type": "code",
   "execution_count": null,
   "id": "b3afc9ee-519f-4bdc-a3af-6a8e2120ec35",
   "metadata": {},
   "outputs": [],
   "source": []
  }
 ],
 "metadata": {
  "kernelspec": {
   "display_name": "Python 3 (ipykernel)",
   "language": "python",
   "name": "python3"
  },
  "language_info": {
   "codemirror_mode": {
    "name": "ipython",
    "version": 3
   },
   "file_extension": ".py",
   "mimetype": "text/x-python",
   "name": "python",
   "nbconvert_exporter": "python",
   "pygments_lexer": "ipython3",
   "version": "3.10.6"
  }
 },
 "nbformat": 4,
 "nbformat_minor": 5
}
